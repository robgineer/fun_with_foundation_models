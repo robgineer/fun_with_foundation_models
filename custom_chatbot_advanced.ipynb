{
 "cells": [
  {
   "cell_type": "markdown",
   "id": "70d23b20-9a73-413c-964e-392d24c25171",
   "metadata": {},
   "source": [
    "# Custom Prompt using LangChain\n",
    "\n",
    "The following code snippets are utilizing LangChain. A handy library that provides convenient functions for creating advanced chatbots.\n",
    "\n",
    "We are going to generate fake property listings and create an artificial real estate agent hat would provide recommendations on these based on the user input. All with just a few lines of code (!)."
   ]
  },
  {
   "cell_type": "markdown",
   "id": "61a5ba71-a3ba-4f22-b686-3fe109209ac9",
   "metadata": {},
   "source": [
    "## Data Generation\n",
    "\n",
    "We require a set of listings for the artificial real estate agent to make suggestions to potential buyers based on their preferences.\n",
    "\n",
    "Now, instead of creating some listings ourself, we can utilize ChatGPT."
   ]
  },
  {
   "cell_type": "code",
   "execution_count": 1,
   "id": "fe5b0dcc-60b0-4b12-ac53-a1570072a33f",
   "metadata": {},
   "outputs": [],
   "source": [
    "from langchain.prompts import PromptTemplate\n",
    "from langchain_openai.llms import OpenAI\n",
    "\n",
    "OPENAI_API_KEY = \"<YOUR API KEY HERE>\"\n",
    "\n",
    "completion_model_name = \"gpt-3.5-turbo-instruct\"\n",
    "temperature = 1.2\n",
    "llm = OpenAI(model_name=completion_model_name, temperature=temperature, max_tokens = 1000, openai_api_key = OPENAI_API_KEY)\n",
    "\n",
    "prompt_template = PromptTemplate.from_template(\n",
    "    \"\"\"Act as a real estate agent and generate {number_of_listings} listings of houses in csv format using ; as delimiter.\n",
    "       Do not use ; within the descriptions.\n",
    "       The csv file requires to contain the following columns:\n",
    "       Price, Bedrooms, House Size, Description, Neighborhood Description\"\n",
    "    \"\"\"\n",
    ")\n",
    "\n",
    "output = llm.invoke(prompt_template.format(number_of_listings = 10))\n",
    "#print(output)"
   ]
  },
  {
   "cell_type": "markdown",
   "id": "cca3f168-7b0d-4180-90ab-9708dfd6768b",
   "metadata": {},
   "source": [
    "Next is to store the data as a CSV file. Since the output is a string, we need to re-interpret it as a CSV."
   ]
  },
  {
   "cell_type": "code",
   "execution_count": 2,
   "id": "34aa48cd-02b9-47dc-aca0-d9c9977e1126",
   "metadata": {},
   "outputs": [
    {
     "data": {
      "text/html": [
       "<div>\n",
       "<style scoped>\n",
       "    .dataframe tbody tr th:only-of-type {\n",
       "        vertical-align: middle;\n",
       "    }\n",
       "\n",
       "    .dataframe tbody tr th {\n",
       "        vertical-align: top;\n",
       "    }\n",
       "\n",
       "    .dataframe thead th {\n",
       "        text-align: right;\n",
       "    }\n",
       "</style>\n",
       "<table border=\"1\" class=\"dataframe\">\n",
       "  <thead>\n",
       "    <tr style=\"text-align: right;\">\n",
       "      <th></th>\n",
       "      <th>0</th>\n",
       "    </tr>\n",
       "  </thead>\n",
       "  <tbody>\n",
       "    <tr>\n",
       "      <th>0</th>\n",
       "      <td>Price, Bedrooms, House Size, Description, Neig...</td>\n",
       "    </tr>\n",
       "    <tr>\n",
       "      <th>1</th>\n",
       "      <td>None</td>\n",
       "    </tr>\n",
       "    <tr>\n",
       "      <th>2</th>\n",
       "      <td>200,000; 4; 2000 sqft; Beautiful ranch style h...</td>\n",
       "    </tr>\n",
       "    <tr>\n",
       "      <th>3</th>\n",
       "      <td>350,000; 5; 3000 sqft; Spacious Colonial home ...</td>\n",
       "    </tr>\n",
       "    <tr>\n",
       "      <th>4</th>\n",
       "      <td>500,000; 6; 4000 sqft; Stunning Mediterranean ...</td>\n",
       "    </tr>\n",
       "    <tr>\n",
       "      <th>5</th>\n",
       "      <td>175,000; 3; 1500 sqft; Charming townhouse with...</td>\n",
       "    </tr>\n",
       "    <tr>\n",
       "      <th>6</th>\n",
       "      <td>250,000; 4; 2200 sqft; Updated split-level hom...</td>\n",
       "    </tr>\n",
       "    <tr>\n",
       "      <th>7</th>\n",
       "      <td>450,000; 4; 3400 sqft; Immaculate custom Colon...</td>\n",
       "    </tr>\n",
       "    <tr>\n",
       "      <th>8</th>\n",
       "      <td>300,000; 5; 2900 sqft; Classic Victorian home ...</td>\n",
       "    </tr>\n",
       "    <tr>\n",
       "      <th>9</th>\n",
       "      <td>600,000; 6; 4500 sqft; Luxurious estate home w...</td>\n",
       "    </tr>\n",
       "    <tr>\n",
       "      <th>10</th>\n",
       "      <td>150,000; 2; 1200 sqft; Cozy bungalow with an i...</td>\n",
       "    </tr>\n",
       "    <tr>\n",
       "      <th>11</th>\n",
       "      <td>400,000; 4; 3200 sqft; Contemporary style home...</td>\n",
       "    </tr>\n",
       "  </tbody>\n",
       "</table>\n",
       "</div>"
      ],
      "text/plain": [
       "                                                    0\n",
       "0   Price, Bedrooms, House Size, Description, Neig...\n",
       "1                                                None\n",
       "2   200,000; 4; 2000 sqft; Beautiful ranch style h...\n",
       "3   350,000; 5; 3000 sqft; Spacious Colonial home ...\n",
       "4   500,000; 6; 4000 sqft; Stunning Mediterranean ...\n",
       "5   175,000; 3; 1500 sqft; Charming townhouse with...\n",
       "6   250,000; 4; 2200 sqft; Updated split-level hom...\n",
       "7   450,000; 4; 3400 sqft; Immaculate custom Colon...\n",
       "8   300,000; 5; 2900 sqft; Classic Victorian home ...\n",
       "9   600,000; 6; 4500 sqft; Luxurious estate home w...\n",
       "10  150,000; 2; 1200 sqft; Cozy bungalow with an i...\n",
       "11  400,000; 4; 3200 sqft; Contemporary style home..."
      ]
     },
     "execution_count": 2,
     "metadata": {},
     "output_type": "execute_result"
    }
   ],
   "source": [
    "import csv\n",
    "import pandas as pd\n",
    "reader = csv.reader(output.lstrip().split('\\n'), delimiter=';')\n",
    "listings_df = pd.DataFrame(list(reader))\n",
    "listings_df"
   ]
  },
  {
   "cell_type": "markdown",
   "id": "a3763716-df43-4760-b794-cfe7cfc68f05",
   "metadata": {},
   "source": [
    "=> That looks like an interesting and moreover, quite realistic set of listings. Lets store it into a file.\n"
   ]
  },
  {
   "cell_type": "code",
   "execution_count": 3,
   "id": "22676f62-2a27-440c-acb4-90cc0db87f4a",
   "metadata": {},
   "outputs": [],
   "source": [
    "listings_df.to_csv(\"data/listings.csv\")"
   ]
  },
  {
   "cell_type": "markdown",
   "id": "2542c969-ed15-47fb-a18e-a0c6b303a99c",
   "metadata": {},
   "source": [
    "## Data Storage\n",
    "\n",
    "In order to properly unilize the information provided in the CSV, we need to make it \"machine readable\" (or \"LLM readble\") as the contents require to be converted into vector repesentation. Depending on the amount of data provided, this step could require lots of computational and memory resources. Hence, using a database represents an efficient approach.\n",
    "\n",
    "Lets create a vector database that stores the information from the simple CSV file ONCE, adds the corresponding embeddings and accesses the content on demand.\n",
    "\n"
   ]
  },
  {
   "cell_type": "code",
   "execution_count": 4,
   "id": "31f8abd7-6146-4d19-a845-0959444ea4d3",
   "metadata": {},
   "outputs": [],
   "source": [
    "from langchain.document_loaders.csv_loader import CSVLoader # import the handy loader from LangChain\n",
    "from langchain_openai import OpenAIEmbeddings # import the OpenAI embeddings\n",
    "\n",
    "from langchain.vectorstores import Chroma # we are using the Chroma vector database\n",
    "\n",
    "csv_file = CSVLoader(file_path = \"data/listings.csv\").load()\n",
    "\n",
    "open_ai_embeddings = OpenAIEmbeddings(openai_api_key=OPENAI_API_KEY)\n",
    "local_db = Chroma.from_documents(csv_file, open_ai_embeddings)"
   ]
  },
  {
   "cell_type": "markdown",
   "id": "04e82b91-5b2f-4332-9bba-7571f75c72ae",
   "metadata": {},
   "source": [
    "## Chat Implementation\n",
    "\n",
    "As of now, we have created a dataset and we have converted the dataset into a useful representation. Time for the fun part.\n",
    "\n",
    "Next is the implementation of a user conversation where we would like to \n",
    "\n",
    "1. get an initial preference from the user regarding their living arrangements\n",
    "2. make ChatGPT respond with the listing that best matches their preference from the available listings\n",
    "\n",
    "For this, we would need to offer some choices for preferences to the client."
   ]
  },
  {
   "cell_type": "code",
   "execution_count": 5,
   "id": "2e4e437f-222c-42fc-8e31-0fa49f9551dd",
   "metadata": {},
   "outputs": [],
   "source": [
    "# lets define a set of questions first\n",
    "questions = [   \n",
    "                \"How big do you want your house to be?\",\n",
    "                \"What are 3 most important things for you in choosing this property?\", \n",
    "                \"Which amenities would you like?\", \n",
    "                \"Which transportation options are important to you?\",\n",
    "                \"How urban do you want your neighborhood to be?\",   \n",
    "            ]"
   ]
  },
  {
   "cell_type": "markdown",
   "id": "f21a616e-6ee4-4709-b84e-ef6e7c4323cb",
   "metadata": {},
   "source": [
    "### Next, we collect the preferences."
   ]
  },
  {
   "cell_type": "code",
   "execution_count": 7,
   "id": "fe52c59f-c6fe-4a87-b51b-f2dab7645f2f",
   "metadata": {},
   "outputs": [
    {
     "name": "stdout",
     "output_type": "stream",
     "text": [
      "\"Hello, my name is Amanda Jones and I am an agent with Jones Realty. Welcome to our office! I am thrilled to hear that you are interested in becoming a property owner. Before we get started, may I ask you a few questions to understand your needs better?\" \n",
      "\n",
      "\n",
      "\n",
      "\n",
      "How big do you want your house to be?\n"
     ]
    },
    {
     "name": "stdin",
     "output_type": "stream",
     "text": [
      " A comfortable three-bedroom house with a spacious kitchen and a cozy living room.\n"
     ]
    },
    {
     "name": "stdout",
     "output_type": "stream",
     "text": [
      "\n",
      "\n",
      "What are 3 most important things for you in choosing this property?\n"
     ]
    },
    {
     "name": "stdin",
     "output_type": "stream",
     "text": [
      " A quiet neighborhood, good local schools, and convenient shopping options.\n"
     ]
    },
    {
     "name": "stdout",
     "output_type": "stream",
     "text": [
      "\n",
      "\n",
      "Which amenities would you like?\n"
     ]
    },
    {
     "name": "stdin",
     "output_type": "stream",
     "text": [
      " A backyard for gardening, a two-car garage, and a modern, energy-efficient heating system.\n"
     ]
    },
    {
     "name": "stdout",
     "output_type": "stream",
     "text": [
      "\n",
      "\n",
      "Which transportation options are important to you?\n"
     ]
    },
    {
     "name": "stdin",
     "output_type": "stream",
     "text": [
      " Easy access to a reliable bus line, proximity to a major highway, and bike-friendly roads.\n"
     ]
    },
    {
     "name": "stdout",
     "output_type": "stream",
     "text": [
      "\n",
      "\n",
      "How urban do you want your neighborhood to be?\n"
     ]
    },
    {
     "name": "stdin",
     "output_type": "stream",
     "text": [
      " A balance between suburban tranquility and access to urban amenities like restaurants and theaters.\n"
     ]
    }
   ],
   "source": [
    "# lets get an input from the user\n",
    "prompt_template_welcome = PromptTemplate.from_template(\n",
    "    \"\"\"You are a kind and welcoming real estate agent.\\n\n",
    "       A potential client has entered your office and is keen to become a property owner.\\n\n",
    "       Introduce yourself using a name and company of your choice and let him know that you need to ask him a few questions.\\n\n",
    "    \"\"\"\n",
    ")\n",
    "\n",
    "# run this cell in your Jupyter Notebook to modify answers. The input() function enables an input prompt.\n",
    "print(llm.invoke(prompt_template_welcome.format()))\n",
    "print(\"\\n\")\n",
    "answers = []\n",
    "for item in questions:\n",
    "    print(\"\\n\")\n",
    "    print(item)\n",
    "    current_answer = input()\n",
    "    answers.append(current_answer)"
   ]
  },
  {
   "cell_type": "markdown",
   "id": "bdc98128-eeaf-4abf-8efe-b61a204c9d15",
   "metadata": {},
   "source": [
    "### And request a recomendation"
   ]
  },
  {
   "cell_type": "code",
   "execution_count": 11,
   "id": "cd4ebc35-b4df-4af5-910d-94a40ac53531",
   "metadata": {},
   "outputs": [
    {
     "name": "stdout",
     "output_type": "stream",
     "text": [
      "\n",
      "\n",
      "I would recommend the listing for $350,000 with 5 bedrooms, 3000 sqft, and a stunning two story foyer. Perfect for a growing family, this spacious Colonial home boasts an open floor plan, a deck for entertaining, and an inviting master suite with a soaking tub and walk-in closet. Not only is the home impressive, but it's also located in a highly sought-after neighborhood with easy access to highways and amenities. Don't miss out on the opportunity to make this listing your new dream home!\n"
     ]
    }
   ],
   "source": [
    "query = \"Based on the answers in the context, recommend a listing. Make the recommendation sound appealing.\"\n",
    "\n",
    "pr = PromptTemplate(\n",
    "    template = \"{query}\\n Context: {context}\",\n",
    "    input_variables = [\"query\", \"context\"]\n",
    ")\n",
    "\n",
    "context = local_db.similarity_search(\" \".join(answers))\n",
    "\n",
    "from langchain.chains.question_answering import load_qa_chain\n",
    "\n",
    "chain = load_qa_chain(llm, prompt = pr, chain_type=\"stuff\")\n",
    "\n",
    "print(chain.run(input_documents = context, query = query))"
   ]
  },
  {
   "cell_type": "markdown",
   "id": "dd8a72cb-cc8d-45d4-85f5-e715de0068e6",
   "metadata": {},
   "source": [
    "## Summary\n",
    "\n",
    "We have generated some data, converted the data into vector representation, created a custom request and custom response from ChatGPT.\n",
    "\n",
    "The entire implementation has less than 60 lines of code and performs surprisingly well. The generated data as well as the responses seem very realistic and natural. There are a vast amount of potential extension for this little example. For instance:\n",
    "1. Extend the chatbot with a conversational history to enable more a fluent conversations and\n",
    "2. Place the code into a Vercel AI Chatbot (https://vercel.com/templates/next.js/nextjs-ai-chatbot)\n",
    "3. ..."
   ]
  },
  {
   "cell_type": "code",
   "execution_count": null,
   "id": "7df8795e-e3f2-4e71-a19b-e88cfd6339ac",
   "metadata": {},
   "outputs": [],
   "source": []
  }
 ],
 "metadata": {
  "kernelspec": {
   "display_name": "Python 3 (ipykernel)",
   "language": "python",
   "name": "python3"
  },
  "language_info": {
   "codemirror_mode": {
    "name": "ipython",
    "version": 3
   },
   "file_extension": ".py",
   "mimetype": "text/x-python",
   "name": "python",
   "nbconvert_exporter": "python",
   "pygments_lexer": "ipython3",
   "version": "3.10.12"
  }
 },
 "nbformat": 4,
 "nbformat_minor": 5
}
