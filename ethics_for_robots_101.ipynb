{
 "cells": [
  {
   "cell_type": "markdown",
   "metadata": {},
   "source": [
    "# Ethics for Robots 101\n",
    "\n",
    "... lets make robots ethical!\n",
    "\n",
    "\n",
    "Idea of this task is to use a foundation model trained for a sentiment classification task and enrich it with an ethics dataset without adjusting the existing weights of the pre-trained model.\n",
    "\n",
    "This concept is referred to as \"Parameter Efficient Fine Tuning (PEFT)\" (we will be using LoRA in partiular). The goal of this task is to understand LoRA (but we will try to make it a bit more intersting).\n",
    "\n",
    "\n",
    "\n",
    "## LoRA explained\n",
    "Low-Rank Adaptation (LoRA) is a transfer learning method that uses a pre-trained model and extends it by an additional layer. The output of the additional layer is combined with an existing layer output.\n",
    "This enables to utilize the pre-trained weights of an existing model and extend the model with additional trainind data for a (domain specific) task.\n",
    "\n",
    "Relevant publication: LoRA: Low-Rank Adaptation of Large Language Models, Hu et. al., 2021, https://arxiv.org/abs/2106.09685\n",
    "\n",
    "\n",
    "## Datasets explained\n",
    "\n",
    "We will use two different datasets.\n",
    "\n",
    "\n",
    "### The primary dataset used\n",
    "is a set of binary labeled ethical / unethical scenarios. The purpose of this dataset is to teach AI models \"basic concepts of morality\". Which I found quite interesting. The scenarios are categorized into several sets as \"commonsense\", \"justice\", etc. \n",
    "\n",
    "An example of an unethical scenario from the \"commonsense\" category: \"I talked loudly during the movie I was watching at the crowded movie theater.\"\n",
    "\n",
    "The dataset can be downloaded from https://huggingface.co/datasets/hendrycks/ethics.\n",
    "\n",
    "Relevant publication: Aligning AI With Shared Human Values, Hendrycks et. al., 2021, https://arxiv.org/pdf/2008.02275.pdf\n",
    "\n",
    "### The secondary dataset used \n",
    "is a set reviews from IMDB. It contains labeled reviews (0: negative, 1: positive).\n",
    "\n",
    "Dataset download: https://huggingface.co/datasets/stanfordnlp/imdb\n",
    "\n",
    "Relevant publication: Maas et. al., 2011, http://www.aclweb.org/anthology/P11-1015\n",
    "\n",
    "\n",
    "## Model Explained\n",
    "\n",
    "The model used is an adpation (reduction) based on the BERT base model trained on Wikipeda and the \"Bookcorpus\" dataset (https://huggingface.co/datasets/bookcorpus). \n",
    "The reduced size as well as the additional training on a book dataset promise interesting results for this task.\n",
    "\n",
    "Model page on huggingface: https://huggingface.co/distilbert/distilbert-base-uncased\n",
    "\n",
    "Relevant publication: Sanh et. al., 2002, https://arxiv.org/abs/1910.01108\n",
    "\n",
    "\n",
    "## Task Overview\n",
    "\n",
    "We will train and evaluate three different (sentiment) classifiers. All of wich will be based on the \"distilbert-based-uncased\" model.\n",
    "\n",
    "1. Basic sentiment classifier: One that has never seen the ETHICS dataset and was trained on the secondary dataset\n",
    "2. Sentiment classifier that was trained on the ETHICS dataset (referred to as \"reference_classifier\" in the following)\n",
    "3. Sentiment classifier that was trained on the ETHICS dataset using LoRA (referred to as \"lora_classifier\" in the following)\n"
   ]
  },
  {
   "cell_type": "markdown",
   "metadata": {},
   "source": [
    "## Define Model"
   ]
  },
  {
   "cell_type": "code",
   "execution_count": 1,
   "metadata": {},
   "outputs": [],
   "source": [
    "# the model path\n",
    "PRE_TRAINED_MODEL = \"distilbert-base-uncased\""
   ]
  },
  {
   "cell_type": "markdown",
   "metadata": {},
   "source": [
    "## Download Datasets"
   ]
  },
  {
   "cell_type": "code",
   "execution_count": 2,
   "metadata": {},
   "outputs": [
    {
     "name": "stdout",
     "output_type": "stream",
     "text": [
      "DatasetDict({\n",
      "    train: Dataset({\n",
      "        features: ['label', 'input'],\n",
      "        num_rows: 13910\n",
      "    })\n",
      "    validation: Dataset({\n",
      "        features: ['label', 'input'],\n",
      "        num_rows: 3885\n",
      "    })\n",
      "    test: Dataset({\n",
      "        features: ['label', 'input'],\n",
      "        num_rows: 3964\n",
      "    })\n",
      "})\n"
     ]
    }
   ],
   "source": [
    "# Lets get the data first\n",
    "from datasets import load_dataset\n",
    "\n",
    "# Load ethics_dataset\n",
    "ethics_dataset = load_dataset(\"hendrycks/ethics\", trust_remote_code=True)\n",
    "print(ethics_dataset)"
   ]
  },
  {
   "cell_type": "code",
   "execution_count": 3,
   "metadata": {},
   "outputs": [
    {
     "name": "stdout",
     "output_type": "stream",
     "text": [
      "DatasetDict({\n",
      "    train: Dataset({\n",
      "        features: ['text', 'label'],\n",
      "        num_rows: 25000\n",
      "    })\n",
      "    test: Dataset({\n",
      "        features: ['text', 'label'],\n",
      "        num_rows: 25000\n",
      "    })\n",
      "    unsupervised: Dataset({\n",
      "        features: ['text', 'label'],\n",
      "        num_rows: 50000\n",
      "    })\n",
      "})\n"
     ]
    }
   ],
   "source": [
    "# Load imdb_dataset\n",
    "imdb_dataset = load_dataset(\"imdb\", trust_remote_code=True)\n",
    "print(imdb_dataset)"
   ]
  },
  {
   "cell_type": "markdown",
   "metadata": {},
   "source": [
    "## Pre-Process ETHICS Dataset\n",
    "\n",
    "The data might be is unfortunately not 100% compatible with the trained model and the used secondary dataset.\n",
    "While most sentiment outputs use 0 for negative and 1 for positive sentiment, the ETHICS dataset uses 0 for \"acceptable\" and 1 for \"not acceptable\" scenarios. In order to match the model and the data, we need to invert the labels of the dataset.\n",
    "This way we would represent a positive sentiment with an ethically acceptable behavior and a negative sentiment with an unethical behavior."
   ]
  },
  {
   "cell_type": "code",
   "execution_count": 4,
   "metadata": {},
   "outputs": [
    {
     "name": "stdout",
     "output_type": "stream",
     "text": [
      "{'label': 0, 'input': 'I exposed the truth about their employee spreading fake news.'}\n",
      "{'label': 1, 'input': 'I exposed the truth about their employee spreading fake news.'}\n"
     ]
    }
   ],
   "source": [
    "# define function for label swap\n",
    "def swap_labels(item):\n",
    "    current_label = item[\"label\"]\n",
    "    if current_label == 0:\n",
    "       item[\"label\"] = 1\n",
    "    elif current_label == 1:\n",
    "       item[\"label\"] = 0\n",
    "    else:\n",
    "        print(\"YOU HAVE MORE LABELS THAN YOU ARE SUPPOSED TO HAVE\")\n",
    "    return item\n",
    "\n",
    "print(ethics_dataset[\"test\"][0])\n",
    "# run label swap on datasets\n",
    "ethics_dataset[\"test\"] = ethics_dataset[\"test\"].map(swap_labels)\n",
    "ethics_dataset[\"train\"] = ethics_dataset[\"train\"].map(swap_labels)\n",
    "print(ethics_dataset[\"test\"][0])"
   ]
  },
  {
   "cell_type": "markdown",
   "metadata": {},
   "source": [
    "## Implement some useful helpers "
   ]
  },
  {
   "cell_type": "code",
   "execution_count": 5,
   "metadata": {},
   "outputs": [
    {
     "name": "stderr",
     "output_type": "stream",
     "text": [
      "2024-04-05 13:25:21.736389: I tensorflow/core/platform/cpu_feature_guard.cc:182] This TensorFlow binary is optimized to use available CPU instructions in performance-critical operations.\n",
      "To enable the following instructions: AVX2 FMA, in other operations, rebuild TensorFlow with the appropriate compiler flags.\n",
      "2024-04-05 13:25:22.631070: W tensorflow/compiler/tf2tensorrt/utils/py_utils.cc:38] TF-TRT Warning: Could not find TensorRT\n"
     ]
    }
   ],
   "source": [
    "from transformers import DataCollatorWithPadding, Trainer, TrainingArguments\n",
    "import numpy as np\n",
    "\n",
    "def create_trainer(model, directory, train_data, test_data):\n",
    "    return Trainer(\n",
    "            model = model,\n",
    "            args = TrainingArguments(\n",
    "                output_dir = directory,\n",
    "                #optim = \"adamw_bnb_8bit\", # use quantization in optimizer (speeding up training)\n",
    "                per_device_train_batch_size = 2,\n",
    "                per_device_eval_batch_size = 2,\n",
    "                evaluation_strategy = \"epoch\",\n",
    "                save_strategy = \"epoch\",\n",
    "                num_train_epochs = 4,\n",
    "                load_best_model_at_end = True,\n",
    "            ),\n",
    "            train_dataset = train_data, # tokenized_dataset[\"train\"],\n",
    "            eval_dataset =  test_data, #tokenized_dataset[\"test\"],\n",
    "            tokenizer = tokenizer,\n",
    "            data_collator = DataCollatorWithPadding(tokenizer=tokenizer),\n",
    "            compute_metrics=compute_metrics)"
   ]
  },
  {
   "cell_type": "code",
   "execution_count": 6,
   "metadata": {},
   "outputs": [],
   "source": [
    "# define metric computation\n",
    "def compute_metrics(eval_pred):\n",
    "    predictions, labels = eval_pred\n",
    "    predictions = np.argmax(predictions, axis=1)\n",
    "    return {\"accuracy\": (predictions == labels).mean()}"
   ]
  },
  {
   "cell_type": "code",
   "execution_count": 7,
   "metadata": {},
   "outputs": [],
   "source": [
    "id2label={0: \"Negative\", 1: \"Positive\"} \n",
    "label2id={\"Negative\": 0, \"Positive\": 1}"
   ]
  },
  {
   "cell_type": "code",
   "execution_count": 8,
   "metadata": {},
   "outputs": [],
   "source": [
    "def classify_text(input, classifier):\n",
    "    classifier.to('cuda')\n",
    "    # tokenize inputs\n",
    "    inputs = tokenizer(input, truncation=True, padding=True, return_tensors=\"pt\").input_ids.to('cuda')\n",
    "    # get logits of classifier\n",
    "    outputs = lora_classifier(inputs).logits\n",
    "    # apply softmax\n",
    "    probabilities = torch.nn.functional.softmax(outputs, dim=1)\n",
    "    # get predicted class\n",
    "    predicted_class = torch.argmax(probabilities)\n",
    "    #print result\n",
    "    \n",
    "    if predicted_class == 1:\n",
    "        print(\"Positive scenario \" + str(probabilities[0][1] * 100) + \" %\")\n",
    "    else:\n",
    "        print(\"Negaive scenario \" + str(probabilities[0][0] * 100) + \" %\")"
   ]
  },
  {
   "cell_type": "code",
   "execution_count": 9,
   "metadata": {},
   "outputs": [],
   "source": [
    "def tokenize_dataset(dataset, tokenizer, content_column):\n",
    "    # tokenize dataset\n",
    "    tokenized_dataset = {}\n",
    "    for item in dataset:\n",
    "        tokenized_dataset[item] = dataset[item].map(\n",
    "            lambda x: tokenizer(x[content_column], truncation=True), batched=True\n",
    "        )\n",
    "    return tokenized_dataset"
   ]
  },
  {
   "cell_type": "code",
   "execution_count": 10,
   "metadata": {},
   "outputs": [],
   "source": [
    "import warnings\n",
    "warnings.filterwarnings('ignore')\n",
    "\n",
    "\n",
    "from transformers.utils import logging\n",
    "logging.set_verbosity_error() "
   ]
  },
  {
   "cell_type": "markdown",
   "metadata": {},
   "source": [
    "## Tokenize Dataset"
   ]
  },
  {
   "cell_type": "markdown",
   "metadata": {},
   "source": [
    "We have a dictionary that contains the train, test and validation data. The contents are located in the \"input\" / \"text\" column and require to be tokenized (split into the tokens that were learned by the model)"
   ]
  },
  {
   "cell_type": "code",
   "execution_count": 11,
   "metadata": {},
   "outputs": [
    {
     "name": "stdout",
     "output_type": "stream",
     "text": [
      "{'train': Dataset({\n",
      "    features: ['label', 'input', 'input_ids', 'attention_mask'],\n",
      "    num_rows: 13910\n",
      "}), 'validation': Dataset({\n",
      "    features: ['label', 'input', 'input_ids', 'attention_mask'],\n",
      "    num_rows: 3885\n",
      "}), 'test': Dataset({\n",
      "    features: ['label', 'input', 'input_ids', 'attention_mask'],\n",
      "    num_rows: 3964\n",
      "})}\n",
      "{'train': Dataset({\n",
      "    features: ['text', 'label', 'input_ids', 'attention_mask'],\n",
      "    num_rows: 25000\n",
      "}), 'test': Dataset({\n",
      "    features: ['text', 'label', 'input_ids', 'attention_mask'],\n",
      "    num_rows: 25000\n",
      "}), 'unsupervised': Dataset({\n",
      "    features: ['text', 'label', 'input_ids', 'attention_mask'],\n",
      "    num_rows: 50000\n",
      "})}\n"
     ]
    }
   ],
   "source": [
    "from transformers import AutoTokenizer\n",
    "\n",
    "tokenizer = AutoTokenizer.from_pretrained(PRE_TRAINED_MODEL) # use tokens from model\n",
    "\n",
    "tokenized_ethics_dataset = tokenize_dataset(ethics_dataset, tokenizer, \"input\")\n",
    "tokenized_imdb_dataset = tokenize_dataset(imdb_dataset, tokenizer, \"text\")\n",
    "\n",
    "print(tokenized_ethics_dataset)\n",
    "print(tokenized_imdb_dataset)"
   ]
  },
  {
   "cell_type": "code",
   "execution_count": 12,
   "metadata": {},
   "outputs": [],
   "source": [
    "# select only subset of train / test data (due to limited computational resources available)\n",
    "num_train = 2000\n",
    "num_test =  500\n",
    "train_data_imdb = tokenized_imdb_dataset[\"train\"].shuffle(seed=42).select(range(num_train))\n",
    "test_data_imdb = tokenized_imdb_dataset[\"test\"].shuffle(seed=42).select(range(num_test))\n",
    "\n",
    "train_data_ethics = tokenized_ethics_dataset[\"train\"].shuffle(seed=42).select(range(num_train))\n",
    "test_data_ethics = tokenized_ethics_dataset[\"test\"].shuffle(seed=42).select(range(num_test))"
   ]
  },
  {
   "cell_type": "markdown",
   "metadata": {},
   "source": [
    "## Train Basic Sentiment Classifier\n",
    "\n",
    "Define and train a classifier that has never seen the ETHICS dataset"
   ]
  },
  {
   "cell_type": "code",
   "execution_count": 13,
   "metadata": {},
   "outputs": [
    {
     "data": {
      "text/plain": [
       "BertForSequenceClassification(\n",
       "  (bert): BertModel(\n",
       "    (embeddings): BertEmbeddings(\n",
       "      (word_embeddings): Embedding(30522, 768, padding_idx=0)\n",
       "      (position_embeddings): Embedding(512, 768)\n",
       "      (token_type_embeddings): Embedding(2, 768)\n",
       "      (LayerNorm): LayerNorm((768,), eps=1e-12, elementwise_affine=True)\n",
       "      (dropout): Dropout(p=0.1, inplace=False)\n",
       "    )\n",
       "    (encoder): BertEncoder(\n",
       "      (layer): ModuleList(\n",
       "        (0-11): 12 x BertLayer(\n",
       "          (attention): BertAttention(\n",
       "            (self): BertSelfAttention(\n",
       "              (query): Linear(in_features=768, out_features=768, bias=True)\n",
       "              (key): Linear(in_features=768, out_features=768, bias=True)\n",
       "              (value): Linear(in_features=768, out_features=768, bias=True)\n",
       "              (dropout): Dropout(p=0.1, inplace=False)\n",
       "            )\n",
       "            (output): BertSelfOutput(\n",
       "              (dense): Linear(in_features=768, out_features=768, bias=True)\n",
       "              (LayerNorm): LayerNorm((768,), eps=1e-12, elementwise_affine=True)\n",
       "              (dropout): Dropout(p=0.1, inplace=False)\n",
       "            )\n",
       "          )\n",
       "          (intermediate): BertIntermediate(\n",
       "            (dense): Linear(in_features=768, out_features=3072, bias=True)\n",
       "            (intermediate_act_fn): GELUActivation()\n",
       "          )\n",
       "          (output): BertOutput(\n",
       "            (dense): Linear(in_features=3072, out_features=768, bias=True)\n",
       "            (LayerNorm): LayerNorm((768,), eps=1e-12, elementwise_affine=True)\n",
       "            (dropout): Dropout(p=0.1, inplace=False)\n",
       "          )\n",
       "        )\n",
       "      )\n",
       "    )\n",
       "    (pooler): BertPooler(\n",
       "      (dense): Linear(in_features=768, out_features=768, bias=True)\n",
       "      (activation): Tanh()\n",
       "    )\n",
       "  )\n",
       "  (dropout): Dropout(p=0.1, inplace=False)\n",
       "  (classifier): Linear(in_features=768, out_features=2, bias=True)\n",
       ")"
      ]
     },
     "execution_count": 13,
     "metadata": {},
     "output_type": "execute_result"
    }
   ],
   "source": [
    "from transformers import BertForSequenceClassification\n",
    "\n",
    "\n",
    "basic_classifier = BertForSequenceClassification.from_pretrained(PRE_TRAINED_MODEL,\n",
    "                                                                 num_labels = 2,\n",
    "                                                                 label2id = label2id,\n",
    "                                                                 id2label = id2label)\n",
    "\n",
    "# freeze existing model weights (make sure you are not updating the pre-trained model)\n",
    "for parameter in basic_classifier.base_model.parameters():\n",
    "    parameter.reuires_grad = False\n",
    "\n",
    "basic_classifier.to(\"cuda\")"
   ]
  },
  {
   "cell_type": "code",
   "execution_count": 14,
   "metadata": {},
   "outputs": [
    {
     "name": "stderr",
     "output_type": "stream",
     "text": [
      "Detected kernel version 5.4.0, which is below the recommended minimum of 5.5.0; this can cause the process to hang. It is recommended to upgrade the kernel to the minimum version or higher.\n"
     ]
    }
   ],
   "source": [
    "# this is the trick: we train on the IMDB dataset but we use the ETHICS dataset for evaluation\n",
    "basic_classifier_trainer = create_trainer(basic_classifier, \"data/basic_classifier_\", train_data_imdb, test_data_ethics)"
   ]
  },
  {
   "cell_type": "code",
   "execution_count": 15,
   "metadata": {},
   "outputs": [
    {
     "name": "stdout",
     "output_type": "stream",
     "text": [
      "Attempted to log scalar metric loss:\n",
      "0.7676\n",
      "Attempted to log scalar metric grad_norm:\n",
      "19.204891204833984\n",
      "Attempted to log scalar metric learning_rate:\n",
      "4.375e-05\n",
      "Attempted to log scalar metric epoch:\n",
      "0.5\n",
      "{'loss': 0.7676, 'grad_norm': 19.204891204833984, 'learning_rate': 4.375e-05, 'epoch': 0.5}\n",
      "Attempted to log scalar metric loss:\n",
      "0.7096\n",
      "Attempted to log scalar metric grad_norm:\n",
      "16.57432746887207\n",
      "Attempted to log scalar metric learning_rate:\n",
      "3.7500000000000003e-05\n",
      "Attempted to log scalar metric epoch:\n",
      "1.0\n",
      "{'loss': 0.7096, 'grad_norm': 16.57432746887207, 'learning_rate': 3.7500000000000003e-05, 'epoch': 1.0}\n",
      "Attempted to log scalar metric eval_loss:\n",
      "0.71096271276474\n",
      "Attempted to log scalar metric eval_accuracy:\n",
      "0.504\n",
      "Attempted to log scalar metric eval_runtime:\n",
      "7.805\n",
      "Attempted to log scalar metric eval_samples_per_second:\n",
      "64.062\n",
      "Attempted to log scalar metric eval_steps_per_second:\n",
      "32.031\n",
      "Attempted to log scalar metric epoch:\n",
      "1.0\n",
      "{'eval_loss': 0.71096271276474, 'eval_accuracy': 0.504, 'eval_runtime': 7.805, 'eval_samples_per_second': 64.062, 'eval_steps_per_second': 32.031, 'epoch': 1.0}\n",
      "Attempted to log scalar metric loss:\n",
      "0.7074\n",
      "Attempted to log scalar metric grad_norm:\n",
      "16.05284309387207\n",
      "Attempted to log scalar metric learning_rate:\n",
      "3.125e-05\n",
      "Attempted to log scalar metric epoch:\n",
      "1.5\n",
      "{'loss': 0.7074, 'grad_norm': 16.05284309387207, 'learning_rate': 3.125e-05, 'epoch': 1.5}\n",
      "Attempted to log scalar metric loss:\n",
      "0.7151\n",
      "Attempted to log scalar metric grad_norm:\n",
      "14.5545015335083\n",
      "Attempted to log scalar metric learning_rate:\n",
      "2.5e-05\n",
      "Attempted to log scalar metric epoch:\n",
      "2.0\n",
      "{'loss': 0.7151, 'grad_norm': 14.5545015335083, 'learning_rate': 2.5e-05, 'epoch': 2.0}\n",
      "Attempted to log scalar metric eval_loss:\n",
      "0.6932897567749023\n",
      "Attempted to log scalar metric eval_accuracy:\n",
      "0.496\n",
      "Attempted to log scalar metric eval_runtime:\n",
      "7.7654\n",
      "Attempted to log scalar metric eval_samples_per_second:\n",
      "64.388\n",
      "Attempted to log scalar metric eval_steps_per_second:\n",
      "32.194\n",
      "Attempted to log scalar metric epoch:\n",
      "2.0\n",
      "{'eval_loss': 0.6932897567749023, 'eval_accuracy': 0.496, 'eval_runtime': 7.7654, 'eval_samples_per_second': 64.388, 'eval_steps_per_second': 32.194, 'epoch': 2.0}\n",
      "Attempted to log scalar metric loss:\n",
      "0.7031\n",
      "Attempted to log scalar metric grad_norm:\n",
      "18.082679748535156\n",
      "Attempted to log scalar metric learning_rate:\n",
      "1.8750000000000002e-05\n",
      "Attempted to log scalar metric epoch:\n",
      "2.5\n",
      "{'loss': 0.7031, 'grad_norm': 18.082679748535156, 'learning_rate': 1.8750000000000002e-05, 'epoch': 2.5}\n",
      "Attempted to log scalar metric loss:\n",
      "0.7025\n",
      "Attempted to log scalar metric grad_norm:\n",
      "16.3642520904541\n",
      "Attempted to log scalar metric learning_rate:\n",
      "1.25e-05\n",
      "Attempted to log scalar metric epoch:\n",
      "3.0\n",
      "{'loss': 0.7025, 'grad_norm': 16.3642520904541, 'learning_rate': 1.25e-05, 'epoch': 3.0}\n",
      "Attempted to log scalar metric eval_loss:\n",
      "0.6932373642921448\n",
      "Attempted to log scalar metric eval_accuracy:\n",
      "0.504\n",
      "Attempted to log scalar metric eval_runtime:\n",
      "7.7072\n",
      "Attempted to log scalar metric eval_samples_per_second:\n",
      "64.874\n",
      "Attempted to log scalar metric eval_steps_per_second:\n",
      "32.437\n",
      "Attempted to log scalar metric epoch:\n",
      "3.0\n",
      "{'eval_loss': 0.6932373642921448, 'eval_accuracy': 0.504, 'eval_runtime': 7.7072, 'eval_samples_per_second': 64.874, 'eval_steps_per_second': 32.437, 'epoch': 3.0}\n",
      "Attempted to log scalar metric loss:\n",
      "0.7047\n",
      "Attempted to log scalar metric grad_norm:\n",
      "12.11381721496582\n",
      "Attempted to log scalar metric learning_rate:\n",
      "6.25e-06\n",
      "Attempted to log scalar metric epoch:\n",
      "3.5\n",
      "{'loss': 0.7047, 'grad_norm': 12.11381721496582, 'learning_rate': 6.25e-06, 'epoch': 3.5}\n",
      "Attempted to log scalar metric loss:\n",
      "0.6972\n",
      "Attempted to log scalar metric grad_norm:\n",
      "3.2556939125061035\n",
      "Attempted to log scalar metric learning_rate:\n",
      "0.0\n",
      "Attempted to log scalar metric epoch:\n",
      "4.0\n",
      "{'loss': 0.6972, 'grad_norm': 3.2556939125061035, 'learning_rate': 0.0, 'epoch': 4.0}\n",
      "Attempted to log scalar metric eval_loss:\n",
      "0.6941174268722534\n",
      "Attempted to log scalar metric eval_accuracy:\n",
      "0.496\n",
      "Attempted to log scalar metric eval_runtime:\n",
      "7.8987\n",
      "Attempted to log scalar metric eval_samples_per_second:\n",
      "63.301\n",
      "Attempted to log scalar metric eval_steps_per_second:\n",
      "31.651\n",
      "Attempted to log scalar metric epoch:\n",
      "4.0\n",
      "{'eval_loss': 0.6941174268722534, 'eval_accuracy': 0.496, 'eval_runtime': 7.8987, 'eval_samples_per_second': 63.301, 'eval_steps_per_second': 31.651, 'epoch': 4.0}\n",
      "Attempted to log scalar metric train_runtime:\n",
      "455.6213\n",
      "Attempted to log scalar metric train_samples_per_second:\n",
      "17.558\n",
      "Attempted to log scalar metric train_steps_per_second:\n",
      "8.779\n",
      "Attempted to log scalar metric total_flos:\n",
      "1426269531118320.0\n",
      "Attempted to log scalar metric train_loss:\n",
      "0.713396499633789\n",
      "Attempted to log scalar metric epoch:\n",
      "4.0\n",
      "{'train_runtime': 455.6213, 'train_samples_per_second': 17.558, 'train_steps_per_second': 8.779, 'train_loss': 0.713396499633789, 'epoch': 4.0}\n"
     ]
    },
    {
     "data": {
      "text/plain": [
       "TrainOutput(global_step=4000, training_loss=0.713396499633789, metrics={'train_runtime': 455.6213, 'train_samples_per_second': 17.558, 'train_steps_per_second': 8.779, 'train_loss': 0.713396499633789, 'epoch': 4.0})"
      ]
     },
     "execution_count": 15,
     "metadata": {},
     "output_type": "execute_result"
    }
   ],
   "source": [
    "basic_classifier_trainer.train()"
   ]
  },
  {
   "cell_type": "code",
   "execution_count": 16,
   "metadata": {},
   "outputs": [],
   "source": [
    "basic_classifier.save_pretrained(\"data/basic_classifier\")"
   ]
  },
  {
   "cell_type": "markdown",
   "metadata": {},
   "source": [
    "## Train Reference Classifier\n",
    "\n",
    "In order to compare the results of fine tuning, we will train a reference classifier by adding a new head onto an pre-trained model and train the particular head only.\n",
    "\n",
    "Now lets prepare the training."
   ]
  },
  {
   "cell_type": "code",
   "execution_count": 17,
   "metadata": {},
   "outputs": [
    {
     "data": {
      "text/plain": [
       "BertForSequenceClassification(\n",
       "  (bert): BertModel(\n",
       "    (embeddings): BertEmbeddings(\n",
       "      (word_embeddings): Embedding(30522, 768, padding_idx=0)\n",
       "      (position_embeddings): Embedding(512, 768)\n",
       "      (token_type_embeddings): Embedding(2, 768)\n",
       "      (LayerNorm): LayerNorm((768,), eps=1e-12, elementwise_affine=True)\n",
       "      (dropout): Dropout(p=0.1, inplace=False)\n",
       "    )\n",
       "    (encoder): BertEncoder(\n",
       "      (layer): ModuleList(\n",
       "        (0-11): 12 x BertLayer(\n",
       "          (attention): BertAttention(\n",
       "            (self): BertSelfAttention(\n",
       "              (query): Linear(in_features=768, out_features=768, bias=True)\n",
       "              (key): Linear(in_features=768, out_features=768, bias=True)\n",
       "              (value): Linear(in_features=768, out_features=768, bias=True)\n",
       "              (dropout): Dropout(p=0.1, inplace=False)\n",
       "            )\n",
       "            (output): BertSelfOutput(\n",
       "              (dense): Linear(in_features=768, out_features=768, bias=True)\n",
       "              (LayerNorm): LayerNorm((768,), eps=1e-12, elementwise_affine=True)\n",
       "              (dropout): Dropout(p=0.1, inplace=False)\n",
       "            )\n",
       "          )\n",
       "          (intermediate): BertIntermediate(\n",
       "            (dense): Linear(in_features=768, out_features=3072, bias=True)\n",
       "            (intermediate_act_fn): GELUActivation()\n",
       "          )\n",
       "          (output): BertOutput(\n",
       "            (dense): Linear(in_features=3072, out_features=768, bias=True)\n",
       "            (LayerNorm): LayerNorm((768,), eps=1e-12, elementwise_affine=True)\n",
       "            (dropout): Dropout(p=0.1, inplace=False)\n",
       "          )\n",
       "        )\n",
       "      )\n",
       "    )\n",
       "    (pooler): BertPooler(\n",
       "      (dense): Linear(in_features=768, out_features=768, bias=True)\n",
       "      (activation): Tanh()\n",
       "    )\n",
       "  )\n",
       "  (dropout): Dropout(p=0.1, inplace=False)\n",
       "  (classifier): Linear(in_features=768, out_features=2, bias=True)\n",
       ")"
      ]
     },
     "execution_count": 17,
     "metadata": {},
     "output_type": "execute_result"
    }
   ],
   "source": [
    "from transformers import BertForSequenceClassification\n",
    "\n",
    "\n",
    "reference_classifier = BertForSequenceClassification.from_pretrained(PRE_TRAINED_MODEL,\n",
    "                                                                     num_labels = 2,\n",
    "                                                                     label2id = label2id,\n",
    "                                                                     id2label = id2label)\n",
    "\n",
    "# freeze existing model weights (make sure you are not updating the pre-trained model)\n",
    "for parameter in reference_classifier.base_model.parameters():\n",
    "    parameter.reuires_grad = False\n",
    "\n",
    "reference_classifier.to(\"cuda\")"
   ]
  },
  {
   "cell_type": "code",
   "execution_count": 18,
   "metadata": {},
   "outputs": [
    {
     "name": "stderr",
     "output_type": "stream",
     "text": [
      "Detected kernel version 5.4.0, which is below the recommended minimum of 5.5.0; this can cause the process to hang. It is recommended to upgrade the kernel to the minimum version or higher.\n"
     ]
    }
   ],
   "source": [
    "reference_classifier_trainer = create_trainer(reference_classifier, \"data/reference_classifier_\",\n",
    "                                              train_data_ethics, test_data_ethics)"
   ]
  },
  {
   "cell_type": "code",
   "execution_count": 19,
   "metadata": {},
   "outputs": [
    {
     "name": "stdout",
     "output_type": "stream",
     "text": [
      "Attempted to log scalar metric loss:\n",
      "0.7432\n",
      "Attempted to log scalar metric grad_norm:\n",
      "3.989985227584839\n",
      "Attempted to log scalar metric learning_rate:\n",
      "4.375e-05\n",
      "Attempted to log scalar metric epoch:\n",
      "0.5\n",
      "{'loss': 0.7432, 'grad_norm': 3.989985227584839, 'learning_rate': 4.375e-05, 'epoch': 0.5}\n",
      "Attempted to log scalar metric loss:\n",
      "0.7276\n",
      "Attempted to log scalar metric grad_norm:\n",
      "3.4024088382720947\n",
      "Attempted to log scalar metric learning_rate:\n",
      "3.7500000000000003e-05\n",
      "Attempted to log scalar metric epoch:\n",
      "1.0\n",
      "{'loss': 0.7276, 'grad_norm': 3.4024088382720947, 'learning_rate': 3.7500000000000003e-05, 'epoch': 1.0}\n",
      "Attempted to log scalar metric eval_loss:\n",
      "0.6937154531478882\n",
      "Attempted to log scalar metric eval_accuracy:\n",
      "0.504\n",
      "Attempted to log scalar metric eval_runtime:\n",
      "7.8566\n",
      "Attempted to log scalar metric eval_samples_per_second:\n",
      "63.641\n",
      "Attempted to log scalar metric eval_steps_per_second:\n",
      "31.82\n",
      "Attempted to log scalar metric epoch:\n",
      "1.0\n",
      "{'eval_loss': 0.6937154531478882, 'eval_accuracy': 0.504, 'eval_runtime': 7.8566, 'eval_samples_per_second': 63.641, 'eval_steps_per_second': 31.82, 'epoch': 1.0}\n",
      "Attempted to log scalar metric loss:\n",
      "0.7123\n",
      "Attempted to log scalar metric grad_norm:\n",
      "15.071237564086914\n",
      "Attempted to log scalar metric learning_rate:\n",
      "3.125e-05\n",
      "Attempted to log scalar metric epoch:\n",
      "1.5\n",
      "{'loss': 0.7123, 'grad_norm': 15.071237564086914, 'learning_rate': 3.125e-05, 'epoch': 1.5}\n",
      "Attempted to log scalar metric loss:\n",
      "0.705\n",
      "Attempted to log scalar metric grad_norm:\n",
      "3.8953893184661865\n",
      "Attempted to log scalar metric learning_rate:\n",
      "2.5e-05\n",
      "Attempted to log scalar metric epoch:\n",
      "2.0\n",
      "{'loss': 0.705, 'grad_norm': 3.8953893184661865, 'learning_rate': 2.5e-05, 'epoch': 2.0}\n",
      "Attempted to log scalar metric eval_loss:\n",
      "0.693172812461853\n",
      "Attempted to log scalar metric eval_accuracy:\n",
      "0.504\n",
      "Attempted to log scalar metric eval_runtime:\n",
      "7.6168\n",
      "Attempted to log scalar metric eval_samples_per_second:\n",
      "65.644\n",
      "Attempted to log scalar metric eval_steps_per_second:\n",
      "32.822\n",
      "Attempted to log scalar metric epoch:\n",
      "2.0\n",
      "{'eval_loss': 0.693172812461853, 'eval_accuracy': 0.504, 'eval_runtime': 7.6168, 'eval_samples_per_second': 65.644, 'eval_steps_per_second': 32.822, 'epoch': 2.0}\n",
      "Attempted to log scalar metric loss:\n",
      "0.7021\n",
      "Attempted to log scalar metric grad_norm:\n",
      "14.00356674194336\n",
      "Attempted to log scalar metric learning_rate:\n",
      "1.8750000000000002e-05\n",
      "Attempted to log scalar metric epoch:\n",
      "2.5\n",
      "{'loss': 0.7021, 'grad_norm': 14.00356674194336, 'learning_rate': 1.8750000000000002e-05, 'epoch': 2.5}\n",
      "Attempted to log scalar metric loss:\n",
      "0.706\n",
      "Attempted to log scalar metric grad_norm:\n",
      "4.898079872131348\n",
      "Attempted to log scalar metric learning_rate:\n",
      "1.25e-05\n",
      "Attempted to log scalar metric epoch:\n",
      "3.0\n",
      "{'loss': 0.706, 'grad_norm': 4.898079872131348, 'learning_rate': 1.25e-05, 'epoch': 3.0}\n",
      "Attempted to log scalar metric eval_loss:\n",
      "0.6969414949417114\n",
      "Attempted to log scalar metric eval_accuracy:\n",
      "0.496\n",
      "Attempted to log scalar metric eval_runtime:\n",
      "7.6597\n",
      "Attempted to log scalar metric eval_samples_per_second:\n",
      "65.277\n",
      "Attempted to log scalar metric eval_steps_per_second:\n",
      "32.639\n",
      "Attempted to log scalar metric epoch:\n",
      "3.0\n",
      "{'eval_loss': 0.6969414949417114, 'eval_accuracy': 0.496, 'eval_runtime': 7.6597, 'eval_samples_per_second': 65.277, 'eval_steps_per_second': 32.639, 'epoch': 3.0}\n",
      "Attempted to log scalar metric loss:\n",
      "0.7025\n",
      "Attempted to log scalar metric grad_norm:\n",
      "3.9454710483551025\n",
      "Attempted to log scalar metric learning_rate:\n",
      "6.25e-06\n",
      "Attempted to log scalar metric epoch:\n",
      "3.5\n",
      "{'loss': 0.7025, 'grad_norm': 3.9454710483551025, 'learning_rate': 6.25e-06, 'epoch': 3.5}\n",
      "Attempted to log scalar metric loss:\n",
      "0.7001\n",
      "Attempted to log scalar metric grad_norm:\n",
      "3.8621387481689453\n",
      "Attempted to log scalar metric learning_rate:\n",
      "0.0\n",
      "Attempted to log scalar metric epoch:\n",
      "4.0\n",
      "{'loss': 0.7001, 'grad_norm': 3.8621387481689453, 'learning_rate': 0.0, 'epoch': 4.0}\n",
      "Attempted to log scalar metric eval_loss:\n",
      "0.6931844353675842\n",
      "Attempted to log scalar metric eval_accuracy:\n",
      "0.504\n",
      "Attempted to log scalar metric eval_runtime:\n",
      "7.7086\n",
      "Attempted to log scalar metric eval_samples_per_second:\n",
      "64.863\n",
      "Attempted to log scalar metric eval_steps_per_second:\n",
      "32.432\n",
      "Attempted to log scalar metric epoch:\n",
      "4.0\n",
      "{'eval_loss': 0.6931844353675842, 'eval_accuracy': 0.504, 'eval_runtime': 7.7086, 'eval_samples_per_second': 64.863, 'eval_steps_per_second': 32.432, 'epoch': 4.0}\n",
      "Attempted to log scalar metric train_runtime:\n",
      "461.3573\n",
      "Attempted to log scalar metric train_samples_per_second:\n",
      "17.34\n",
      "Attempted to log scalar metric train_steps_per_second:\n",
      "8.67\n",
      "Attempted to log scalar metric total_flos:\n",
      "1319737303691640.0\n",
      "Attempted to log scalar metric train_loss:\n",
      "0.7123526763916016\n",
      "Attempted to log scalar metric epoch:\n",
      "4.0\n",
      "{'train_runtime': 461.3573, 'train_samples_per_second': 17.34, 'train_steps_per_second': 8.67, 'train_loss': 0.7123526763916016, 'epoch': 4.0}\n"
     ]
    },
    {
     "data": {
      "text/plain": [
       "TrainOutput(global_step=4000, training_loss=0.7123526763916016, metrics={'train_runtime': 461.3573, 'train_samples_per_second': 17.34, 'train_steps_per_second': 8.67, 'train_loss': 0.7123526763916016, 'epoch': 4.0})"
      ]
     },
     "execution_count": 19,
     "metadata": {},
     "output_type": "execute_result"
    }
   ],
   "source": [
    "reference_classifier_trainer.train()"
   ]
  },
  {
   "cell_type": "code",
   "execution_count": 20,
   "metadata": {},
   "outputs": [],
   "source": [
    "reference_classifier.save_pretrained(\"data/reference_classifier\")"
   ]
  },
  {
   "cell_type": "markdown",
   "metadata": {},
   "source": [
    "## Train LoRA Classifier"
   ]
  },
  {
   "cell_type": "code",
   "execution_count": 21,
   "metadata": {},
   "outputs": [
    {
     "data": {
      "text/plain": [
       "PeftModelForSequenceClassification(\n",
       "  (base_model): LoraModel(\n",
       "    (model): BertForSequenceClassification(\n",
       "      (bert): BertModel(\n",
       "        (embeddings): BertEmbeddings(\n",
       "          (word_embeddings): Embedding(30522, 768, padding_idx=0)\n",
       "          (position_embeddings): Embedding(512, 768)\n",
       "          (token_type_embeddings): Embedding(2, 768)\n",
       "          (LayerNorm): LayerNorm((768,), eps=1e-12, elementwise_affine=True)\n",
       "          (dropout): Dropout(p=0.1, inplace=False)\n",
       "        )\n",
       "        (encoder): BertEncoder(\n",
       "          (layer): ModuleList(\n",
       "            (0-11): 12 x BertLayer(\n",
       "              (attention): BertAttention(\n",
       "                (self): BertSelfAttention(\n",
       "                  (query): lora.Linear(\n",
       "                    (base_layer): Linear(in_features=768, out_features=768, bias=True)\n",
       "                    (lora_dropout): ModuleDict(\n",
       "                      (default): Identity()\n",
       "                    )\n",
       "                    (lora_A): ModuleDict(\n",
       "                      (default): Linear(in_features=768, out_features=8, bias=False)\n",
       "                    )\n",
       "                    (lora_B): ModuleDict(\n",
       "                      (default): Linear(in_features=8, out_features=768, bias=False)\n",
       "                    )\n",
       "                    (lora_embedding_A): ParameterDict()\n",
       "                    (lora_embedding_B): ParameterDict()\n",
       "                  )\n",
       "                  (key): Linear(in_features=768, out_features=768, bias=True)\n",
       "                  (value): lora.Linear(\n",
       "                    (base_layer): Linear(in_features=768, out_features=768, bias=True)\n",
       "                    (lora_dropout): ModuleDict(\n",
       "                      (default): Identity()\n",
       "                    )\n",
       "                    (lora_A): ModuleDict(\n",
       "                      (default): Linear(in_features=768, out_features=8, bias=False)\n",
       "                    )\n",
       "                    (lora_B): ModuleDict(\n",
       "                      (default): Linear(in_features=8, out_features=768, bias=False)\n",
       "                    )\n",
       "                    (lora_embedding_A): ParameterDict()\n",
       "                    (lora_embedding_B): ParameterDict()\n",
       "                  )\n",
       "                  (dropout): Dropout(p=0.1, inplace=False)\n",
       "                )\n",
       "                (output): BertSelfOutput(\n",
       "                  (dense): Linear(in_features=768, out_features=768, bias=True)\n",
       "                  (LayerNorm): LayerNorm((768,), eps=1e-12, elementwise_affine=True)\n",
       "                  (dropout): Dropout(p=0.1, inplace=False)\n",
       "                )\n",
       "              )\n",
       "              (intermediate): BertIntermediate(\n",
       "                (dense): Linear(in_features=768, out_features=3072, bias=True)\n",
       "                (intermediate_act_fn): GELUActivation()\n",
       "              )\n",
       "              (output): BertOutput(\n",
       "                (dense): Linear(in_features=3072, out_features=768, bias=True)\n",
       "                (LayerNorm): LayerNorm((768,), eps=1e-12, elementwise_affine=True)\n",
       "                (dropout): Dropout(p=0.1, inplace=False)\n",
       "              )\n",
       "            )\n",
       "          )\n",
       "        )\n",
       "        (pooler): BertPooler(\n",
       "          (dense): Linear(in_features=768, out_features=768, bias=True)\n",
       "          (activation): Tanh()\n",
       "        )\n",
       "      )\n",
       "      (dropout): Dropout(p=0.1, inplace=False)\n",
       "      (classifier): ModulesToSaveWrapper(\n",
       "        (original_module): Linear(in_features=768, out_features=2, bias=True)\n",
       "        (modules_to_save): ModuleDict(\n",
       "          (default): Linear(in_features=768, out_features=2, bias=True)\n",
       "        )\n",
       "      )\n",
       "    )\n",
       "  )\n",
       ")"
      ]
     },
     "execution_count": 21,
     "metadata": {},
     "output_type": "execute_result"
    }
   ],
   "source": [
    "from peft import get_peft_model, LoraConfig, TaskType\n",
    "import numpy as np\n",
    "\n",
    "from transformers import BertForSequenceClassification\n",
    "\n",
    "pre_trained_model = BertForSequenceClassification.from_pretrained(PRE_TRAINED_MODEL,\n",
    "                                                                  num_labels = 2,\n",
    "                                                                  label2id = label2id,\n",
    "                                                                  id2label = id2label)\n",
    "\n",
    "# use std. settings for LoRA\n",
    "lora_classifier = get_peft_model(pre_trained_model, LoraConfig(task_type=\"SEQ_CLS\",inference_mode=False))\n",
    "lora_classifier.to(\"cuda\")"
   ]
  },
  {
   "cell_type": "code",
   "execution_count": 22,
   "metadata": {},
   "outputs": [
    {
     "name": "stderr",
     "output_type": "stream",
     "text": [
      "Detected kernel version 5.4.0, which is below the recommended minimum of 5.5.0; this can cause the process to hang. It is recommended to upgrade the kernel to the minimum version or higher.\n"
     ]
    }
   ],
   "source": [
    "lora_classifier_trainer = create_trainer(lora_classifier, \"data/lora_classifier_\", train_data_ethics, test_data_ethics)"
   ]
  },
  {
   "cell_type": "code",
   "execution_count": 23,
   "metadata": {},
   "outputs": [
    {
     "name": "stdout",
     "output_type": "stream",
     "text": [
      "Attempted to log scalar metric loss:\n",
      "0.7019\n",
      "Attempted to log scalar metric grad_norm:\n",
      "3.917961597442627\n",
      "Attempted to log scalar metric learning_rate:\n",
      "4.375e-05\n",
      "Attempted to log scalar metric epoch:\n",
      "0.5\n",
      "{'loss': 0.7019, 'grad_norm': 3.917961597442627, 'learning_rate': 4.375e-05, 'epoch': 0.5}\n",
      "Attempted to log scalar metric loss:\n",
      "0.7\n",
      "Attempted to log scalar metric grad_norm:\n",
      "4.358515739440918\n",
      "Attempted to log scalar metric learning_rate:\n",
      "3.7500000000000003e-05\n",
      "Attempted to log scalar metric epoch:\n",
      "1.0\n",
      "{'loss': 0.7, 'grad_norm': 4.358515739440918, 'learning_rate': 3.7500000000000003e-05, 'epoch': 1.0}\n",
      "Attempted to log scalar metric eval_loss:\n",
      "0.6979681253433228\n",
      "Attempted to log scalar metric eval_accuracy:\n",
      "0.504\n",
      "Attempted to log scalar metric eval_runtime:\n",
      "8.1603\n",
      "Attempted to log scalar metric eval_samples_per_second:\n",
      "61.272\n",
      "Attempted to log scalar metric eval_steps_per_second:\n",
      "30.636\n",
      "Attempted to log scalar metric epoch:\n",
      "1.0\n",
      "{'eval_loss': 0.6979681253433228, 'eval_accuracy': 0.504, 'eval_runtime': 8.1603, 'eval_samples_per_second': 61.272, 'eval_steps_per_second': 30.636, 'epoch': 1.0}\n",
      "Attempted to log scalar metric loss:\n",
      "0.6992\n",
      "Attempted to log scalar metric grad_norm:\n",
      "8.614450454711914\n",
      "Attempted to log scalar metric learning_rate:\n",
      "3.125e-05\n",
      "Attempted to log scalar metric epoch:\n",
      "1.5\n",
      "{'loss': 0.6992, 'grad_norm': 8.614450454711914, 'learning_rate': 3.125e-05, 'epoch': 1.5}\n",
      "Attempted to log scalar metric loss:\n",
      "0.6954\n",
      "Attempted to log scalar metric grad_norm:\n",
      "4.0488972663879395\n",
      "Attempted to log scalar metric learning_rate:\n",
      "2.5e-05\n",
      "Attempted to log scalar metric epoch:\n",
      "2.0\n",
      "{'loss': 0.6954, 'grad_norm': 4.0488972663879395, 'learning_rate': 2.5e-05, 'epoch': 2.0}\n",
      "Attempted to log scalar metric eval_loss:\n",
      "0.6981938481330872\n",
      "Attempted to log scalar metric eval_accuracy:\n",
      "0.504\n",
      "Attempted to log scalar metric eval_runtime:\n",
      "8.3131\n",
      "Attempted to log scalar metric eval_samples_per_second:\n",
      "60.146\n",
      "Attempted to log scalar metric eval_steps_per_second:\n",
      "30.073\n",
      "Attempted to log scalar metric epoch:\n",
      "2.0\n",
      "{'eval_loss': 0.6981938481330872, 'eval_accuracy': 0.504, 'eval_runtime': 8.3131, 'eval_samples_per_second': 60.146, 'eval_steps_per_second': 30.073, 'epoch': 2.0}\n",
      "Attempted to log scalar metric loss:\n",
      "0.6885\n",
      "Attempted to log scalar metric grad_norm:\n",
      "7.628675937652588\n",
      "Attempted to log scalar metric learning_rate:\n",
      "1.8750000000000002e-05\n",
      "Attempted to log scalar metric epoch:\n",
      "2.5\n",
      "{'loss': 0.6885, 'grad_norm': 7.628675937652588, 'learning_rate': 1.8750000000000002e-05, 'epoch': 2.5}\n",
      "Attempted to log scalar metric loss:\n",
      "0.6952\n",
      "Attempted to log scalar metric grad_norm:\n",
      "4.037909984588623\n",
      "Attempted to log scalar metric learning_rate:\n",
      "1.25e-05\n",
      "Attempted to log scalar metric epoch:\n",
      "3.0\n",
      "{'loss': 0.6952, 'grad_norm': 4.037909984588623, 'learning_rate': 1.25e-05, 'epoch': 3.0}\n",
      "Attempted to log scalar metric eval_loss:\n",
      "0.692632794380188\n",
      "Attempted to log scalar metric eval_accuracy:\n",
      "0.504\n",
      "Attempted to log scalar metric eval_runtime:\n",
      "8.2112\n",
      "Attempted to log scalar metric eval_samples_per_second:\n",
      "60.892\n",
      "Attempted to log scalar metric eval_steps_per_second:\n",
      "30.446\n",
      "Attempted to log scalar metric epoch:\n",
      "3.0\n",
      "{'eval_loss': 0.692632794380188, 'eval_accuracy': 0.504, 'eval_runtime': 8.2112, 'eval_samples_per_second': 60.892, 'eval_steps_per_second': 30.446, 'epoch': 3.0}\n",
      "Attempted to log scalar metric loss:\n",
      "0.6925\n",
      "Attempted to log scalar metric grad_norm:\n",
      "3.6682801246643066\n",
      "Attempted to log scalar metric learning_rate:\n",
      "6.25e-06\n",
      "Attempted to log scalar metric epoch:\n",
      "3.5\n",
      "{'loss': 0.6925, 'grad_norm': 3.6682801246643066, 'learning_rate': 6.25e-06, 'epoch': 3.5}\n",
      "Attempted to log scalar metric loss:\n",
      "0.6946\n",
      "Attempted to log scalar metric grad_norm:\n",
      "3.321179151535034\n",
      "Attempted to log scalar metric learning_rate:\n",
      "0.0\n",
      "Attempted to log scalar metric epoch:\n",
      "4.0\n",
      "{'loss': 0.6946, 'grad_norm': 3.321179151535034, 'learning_rate': 0.0, 'epoch': 4.0}\n",
      "Attempted to log scalar metric eval_loss:\n",
      "0.6927967667579651\n",
      "Attempted to log scalar metric eval_accuracy:\n",
      "0.522\n",
      "Attempted to log scalar metric eval_runtime:\n",
      "8.3008\n",
      "Attempted to log scalar metric eval_samples_per_second:\n",
      "60.235\n",
      "Attempted to log scalar metric eval_steps_per_second:\n",
      "30.118\n",
      "Attempted to log scalar metric epoch:\n",
      "4.0\n",
      "{'eval_loss': 0.6927967667579651, 'eval_accuracy': 0.522, 'eval_runtime': 8.3008, 'eval_samples_per_second': 60.235, 'eval_steps_per_second': 30.118, 'epoch': 4.0}\n",
      "Attempted to log scalar metric train_runtime:\n",
      "334.707\n",
      "Attempted to log scalar metric train_samples_per_second:\n",
      "23.901\n",
      "Attempted to log scalar metric train_steps_per_second:\n",
      "11.951\n",
      "Attempted to log scalar metric total_flos:\n",
      "1324305250752240.0\n",
      "Attempted to log scalar metric train_loss:\n",
      "0.6959104385375977\n",
      "Attempted to log scalar metric epoch:\n",
      "4.0\n",
      "{'train_runtime': 334.707, 'train_samples_per_second': 23.901, 'train_steps_per_second': 11.951, 'train_loss': 0.6959104385375977, 'epoch': 4.0}\n"
     ]
    },
    {
     "data": {
      "text/plain": [
       "TrainOutput(global_step=4000, training_loss=0.6959104385375977, metrics={'train_runtime': 334.707, 'train_samples_per_second': 23.901, 'train_steps_per_second': 11.951, 'train_loss': 0.6959104385375977, 'epoch': 4.0})"
      ]
     },
     "execution_count": 23,
     "metadata": {},
     "output_type": "execute_result"
    }
   ],
   "source": [
    "lora_classifier_trainer.train()"
   ]
  },
  {
   "cell_type": "code",
   "execution_count": 24,
   "metadata": {},
   "outputs": [],
   "source": [
    "lora_classifier.save_pretrained(\"data/lora_classifier\")"
   ]
  },
  {
   "cell_type": "markdown",
   "metadata": {},
   "source": [
    "## Evaluate Classifiers"
   ]
  },
  {
   "cell_type": "code",
   "execution_count": 25,
   "metadata": {},
   "outputs": [
    {
     "name": "stdout",
     "output_type": "stream",
     "text": [
      "Attempted to log scalar metric eval_loss:\n",
      "0.6932373642921448\n",
      "Attempted to log scalar metric eval_accuracy:\n",
      "0.504\n",
      "Attempted to log scalar metric eval_runtime:\n",
      "7.784\n",
      "Attempted to log scalar metric eval_samples_per_second:\n",
      "64.234\n",
      "Attempted to log scalar metric eval_steps_per_second:\n",
      "32.117\n",
      "Attempted to log scalar metric epoch:\n",
      "4.0\n",
      "{'eval_loss': 0.6932373642921448, 'eval_accuracy': 0.504, 'eval_runtime': 7.784, 'eval_samples_per_second': 64.234, 'eval_steps_per_second': 32.117, 'epoch': 4.0}\n"
     ]
    },
    {
     "data": {
      "text/plain": [
       "{'eval_loss': 0.6932373642921448,\n",
       " 'eval_accuracy': 0.504,\n",
       " 'eval_runtime': 7.784,\n",
       " 'eval_samples_per_second': 64.234,\n",
       " 'eval_steps_per_second': 32.117,\n",
       " 'epoch': 4.0}"
      ]
     },
     "execution_count": 25,
     "metadata": {},
     "output_type": "execute_result"
    }
   ],
   "source": [
    "basic_classifier_trainer.evaluate()"
   ]
  },
  {
   "cell_type": "code",
   "execution_count": 26,
   "metadata": {},
   "outputs": [
    {
     "name": "stdout",
     "output_type": "stream",
     "text": [
      "Attempted to log scalar metric eval_loss:\n",
      "0.693172812461853\n",
      "Attempted to log scalar metric eval_accuracy:\n",
      "0.504\n",
      "Attempted to log scalar metric eval_runtime:\n",
      "7.7802\n",
      "Attempted to log scalar metric eval_samples_per_second:\n",
      "64.265\n",
      "Attempted to log scalar metric eval_steps_per_second:\n",
      "32.133\n",
      "Attempted to log scalar metric epoch:\n",
      "4.0\n",
      "{'eval_loss': 0.693172812461853, 'eval_accuracy': 0.504, 'eval_runtime': 7.7802, 'eval_samples_per_second': 64.265, 'eval_steps_per_second': 32.133, 'epoch': 4.0}\n"
     ]
    },
    {
     "data": {
      "text/plain": [
       "{'eval_loss': 0.693172812461853,\n",
       " 'eval_accuracy': 0.504,\n",
       " 'eval_runtime': 7.7802,\n",
       " 'eval_samples_per_second': 64.265,\n",
       " 'eval_steps_per_second': 32.133,\n",
       " 'epoch': 4.0}"
      ]
     },
     "execution_count": 26,
     "metadata": {},
     "output_type": "execute_result"
    }
   ],
   "source": [
    "reference_classifier_trainer.evaluate()"
   ]
  },
  {
   "cell_type": "code",
   "execution_count": 27,
   "metadata": {},
   "outputs": [
    {
     "name": "stdout",
     "output_type": "stream",
     "text": [
      "Attempted to log scalar metric eval_loss:\n",
      "0.692632794380188\n",
      "Attempted to log scalar metric eval_accuracy:\n",
      "0.504\n",
      "Attempted to log scalar metric eval_runtime:\n",
      "8.3981\n",
      "Attempted to log scalar metric eval_samples_per_second:\n",
      "59.537\n",
      "Attempted to log scalar metric eval_steps_per_second:\n",
      "29.769\n",
      "Attempted to log scalar metric epoch:\n",
      "4.0\n",
      "{'eval_loss': 0.692632794380188, 'eval_accuracy': 0.504, 'eval_runtime': 8.3981, 'eval_samples_per_second': 59.537, 'eval_steps_per_second': 29.769, 'epoch': 4.0}\n"
     ]
    },
    {
     "data": {
      "text/plain": [
       "{'eval_loss': 0.692632794380188,\n",
       " 'eval_accuracy': 0.504,\n",
       " 'eval_runtime': 8.3981,\n",
       " 'eval_samples_per_second': 59.537,\n",
       " 'eval_steps_per_second': 29.769,\n",
       " 'epoch': 4.0}"
      ]
     },
     "execution_count": 27,
     "metadata": {},
     "output_type": "execute_result"
    }
   ],
   "source": [
    "lora_classifier_trainer.evaluate()"
   ]
  },
  {
   "cell_type": "markdown",
   "metadata": {},
   "source": [
    "## Manual Cross Check"
   ]
  },
  {
   "cell_type": "code",
   "execution_count": 28,
   "metadata": {},
   "outputs": [
    {
     "name": "stdout",
     "output_type": "stream",
     "text": [
      "Positive scenario tensor(53.1025, device='cuda:0', grad_fn=<MulBackward0>) %\n",
      "Positive scenario tensor(53.1025, device='cuda:0', grad_fn=<MulBackward0>) %\n",
      "Positive scenario tensor(53.1025, device='cuda:0', grad_fn=<MulBackward0>) %\n"
     ]
    }
   ],
   "source": [
    "import torch\n",
    "text = \"The woman left the house nicely\"\n",
    "classify_text(text, basic_classifier)\n",
    "classify_text(text, reference_classifier)\n",
    "classify_text(text, lora_classifier)"
   ]
  },
  {
   "cell_type": "markdown",
   "metadata": {},
   "source": [
    "## Conclusion\n",
    "\n",
    "we can see that the evaluations for all three models are almost identical. Same applies to the manual cross check. This implies that the training data provided was not enough to apply the exisiting classifier to a new task. It was expected that the sentiment classifiers trained on the ETHICS data would ourperform the basic sentiment classifier (that has never seen the dataset).\n",
    "\n",
    "The reason for selecting a very small subset for the training / evaluation task are the limited GPU resouces available.\n",
    "\n",
    "This shows that even with very poweful and well trained models, a major success for transfer learning is related to the data available.\n",
    "\n",
    "More experiments on more powerful GPUs are mandatory."
   ]
  },
  {
   "cell_type": "code",
   "execution_count": null,
   "metadata": {},
   "outputs": [],
   "source": []
  }
 ],
 "metadata": {
  "kernelspec": {
   "display_name": "Python 3 (ipykernel)",
   "language": "python",
   "name": "python3"
  },
  "language_info": {
   "codemirror_mode": {
    "name": "ipython",
    "version": 3
   },
   "file_extension": ".py",
   "mimetype": "text/x-python",
   "name": "python",
   "nbconvert_exporter": "python",
   "pygments_lexer": "ipython3",
   "version": "3.8.10"
  }
 },
 "nbformat": 4,
 "nbformat_minor": 2
}
